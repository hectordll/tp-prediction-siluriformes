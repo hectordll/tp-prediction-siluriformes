{
 "cells": [
  {
   "cell_type": "markdown",
   "metadata": {},
   "source": [
    "Une association de pêcheur de poisson-chats recense la taille des poisson-chats capturés au cours de leurs sorties. On appelle X, la variable aléatoire qui, à un poisson-chat choisi au hasard associe sa taille en cm.\n",
    "\n",
    "On suppose que X suit la loi normale d’espérance mu = 20 et d’écart-type sigma = 7.5.\n",
    "\n",
    "A l’aide de la librairie python statistics.NormalDist, quelle est la probabilité, à 10^-3 près, qu’un poisson est une taille :\n",
    "\n",
    "Entre 10 et 25 cm ?\n",
    "\n",
    "Moins de 25 cm ?\n",
    "\n",
    "Plus de 30 cm ?"
   ]
  },
  {
   "cell_type": "markdown",
   "metadata": {},
   "source": [
    "La majorité des poissons-chats capturés mesurent entre 10 et 30 cm avec une moyenne de 25cm. 50% d'entre eux font moins de 25cm, et seuls 25.2% dépassent 30cm."
   ]
  },
  {
   "cell_type": "code",
   "execution_count": null,
   "metadata": {},
   "outputs": [
    {
     "name": "stdout",
     "output_type": "stream",
     "text": [
      "Probabilité qu'un poisson mesure entre 10 et 25 cm : 0.477\n",
      "Probabilité qu'un poisson mesure moins de 25 cm : 0.500\n",
      "Probabilité qu'un poisson mesure plus de 30 cm : 0.252\n"
     ]
    }
   ],
   "source": [
    "from statistics import NormalDist\n",
    "\n",
    "mu = 25\n",
    "sigma = 7.5\n",
    "\n",
    "# Création de la loi normale\n",
    "normal = NormalDist(mu, sigma)\n",
    "\n",
    "p_10_25 = normal.cdf(25) - normal.cdf(10)  # P(10 <= X <= 25)\n",
    "p_less_25 = normal.cdf(25)   # P(X <= 25)\n",
    "p_more_30 = 1 - normal.cdf(30) # P(X >= 30)\n",
    "\n",
    "# Résultats en 10^-3\n",
    "print(f\"Probabilité qu'un poisson mesure entre 10 et 25 cm : {p_10_25:.3f}\")\n",
    "print(f\"Probabilité qu'un poisson mesure moins de 25 cm : {p_less_25:.3f}\")\n",
    "print(f\"Probabilité qu'un poisson mesure plus de 30 cm : {p_more_30:.3f}\")\n"
   ]
  }
 ],
 "metadata": {
  "kernelspec": {
   "display_name": ".venv",
   "language": "python",
   "name": "python3"
  },
  "language_info": {
   "codemirror_mode": {
    "name": "ipython",
    "version": 3
   },
   "file_extension": ".py",
   "mimetype": "text/x-python",
   "name": "python",
   "nbconvert_exporter": "python",
   "pygments_lexer": "ipython3",
   "version": "3.10.12"
  }
 },
 "nbformat": 4,
 "nbformat_minor": 2
}
